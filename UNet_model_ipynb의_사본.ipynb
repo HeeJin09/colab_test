{
  "nbformat": 4,
  "nbformat_minor": 0,
  "metadata": {
    "colab": {
      "name": "UNet_model.ipynb의 사본",
      "private_outputs": true,
      "provenance": [],
      "collapsed_sections": [],
      "include_colab_link": true
    },
    "kernelspec": {
      "name": "python3",
      "display_name": "Python 3"
    },
    "accelerator": "GPU"
  },
  "cells": [
    {
      "cell_type": "markdown",
      "metadata": {
        "id": "view-in-github",
        "colab_type": "text"
      },
      "source": [
        "<a href=\"https://colab.research.google.com/github/HeeJin09/colab_test/blob/colab/UNet_model_ipynb%EC%9D%98_%EC%82%AC%EB%B3%B8.ipynb\" target=\"_parent\"><img src=\"https://colab.research.google.com/assets/colab-badge.svg\" alt=\"Open In Colab\"/></a>"
      ]
    },
    {
      "cell_type": "code",
      "metadata": {
        "id": "IUTWH3zsSiXz"
      },
      "source": [
        "from google.colab import drive\r\n",
        "drive.mount('/content/drive')"
      ],
      "execution_count": null,
      "outputs": []
    },
    {
      "cell_type": "code",
      "metadata": {
        "id": "8m1bzSv5Q0YI"
      },
      "source": [
        "pwd"
      ],
      "execution_count": null,
      "outputs": []
    },
    {
      "cell_type": "code",
      "metadata": {
        "id": "3bQeIgIbQ9v9"
      },
      "source": [
        "ls"
      ],
      "execution_count": null,
      "outputs": []
    },
    {
      "cell_type": "code",
      "metadata": {
        "id": "VKMsike5Q-uC"
      },
      "source": [
        "cd /content/drive/My Drive/test"
      ],
      "execution_count": null,
      "outputs": []
    },
    {
      "cell_type": "code",
      "metadata": {
        "id": "ZZMRZe6wSuuc"
      },
      "source": [
        "ls"
      ],
      "execution_count": null,
      "outputs": []
    },
    {
      "cell_type": "code",
      "metadata": {
        "id": "9vYTYSXaOyxU"
      },
      "source": [
        "#from google.colab import files\r\n",
        "#src = list(files.upload().values())[0]\r\n",
        "#open('model.py','wb').write(src)\r\n",
        "#open('data.py','wb').write(src)\r\n",
        "from model import *\r\n",
        "from data import *\r\n",
        "import tensorflow as tf\r\n",
        "import time\r\n",
        "os.environ[\"CUDA_VISIBLE_DEVICES\"] = \"0\"\r\n",
        "\r\n",
        "gpu_options = tf.compat.v1.GPUOptions(per_process_gpu_memory_fraction=0.7)\r\n",
        "sess = tf.compat.v1.Session(config=tf.compat.v1.ConfigProto(gpu_options=gpu_options))\r\n",
        "\r\n",
        "data_gen_args = dict(rotation_range=0.25,\r\n",
        "                    width_shift_range=0.05,\r\n",
        "                    height_shift_range=0.05,\r\n",
        "                    shear_range=0.05,\r\n",
        "                    zoom_range=0.05,\r\n",
        "                    horizontal_flip=True,\r\n",
        "                    fill_mode='nearest')\r\n",
        "myGene = trainGenerator(2,'datasets','input','label',data_gen_args,save_to_dir = None)\r\n",
        "\r\n",
        "model = unet()\r\n",
        "def train():\r\n",
        "    start_time = time.time()\r\n",
        "    model_checkpoint = ModelCheckpoint('covidtest.hdf5', monitor='loss',verbose=1, save_best_only=True)\r\n",
        "    print('total time(min):', (time.time()-start_time)/60)\r\n",
        "def test():\r\n",
        "    model.load_weights('./drive/MyDrive/datasets/covid_test.hdf5')\r\n",
        "    testGene = testmyGenerator(\"./drive/MyDrive/datasets/test_image\")\r\n",
        "    results = model.predict_generator(testGene,3,verbose=1)\r\n",
        "    saveResult(\"./drive/MyDrive/test/datasets/result\",results)\r\n",
        "\r\n",
        "train()"
      ],
      "execution_count": null,
      "outputs": []
    },
    {
      "cell_type": "code",
      "metadata": {
        "id": "uaefscvECvnC"
      },
      "source": [
        "from model import *\r\n",
        "from data import *\r\n",
        "import tensorflow as tf\r\n",
        "import time\r\n",
        "os.environ[\"CUDA_VISIBLE_DEVICES\"] = \"0\"\r\n",
        "\r\n",
        "gpu_options = tf.compat.v1.GPUOptions(per_process_gpu_memory_fraction=0.7)\r\n",
        "sess = tf.compat.v1.Session(config=tf.compat.v1.ConfigProto(gpu_options=gpu_options))\r\n",
        "\r\n",
        "data_gen_args = dict(rotation_range=0.25,\r\n",
        "                    width_shift_range=0.05,\r\n",
        "                    height_shift_range=0.05,\r\n",
        "                    shear_range=0.05,\r\n",
        "                    zoom_range=0.05,\r\n",
        "                    horizontal_flip=True,\r\n",
        "                    fill_mode='nearest')\r\n",
        "myGene = trainGenerator(2,'datasets','input','label',data_gen_args,save_to_dir = None)\r\n",
        "\r\n",
        "model = unet()\r\n",
        "def train():\r\n",
        "    start_time = time.time()\r\n",
        "    model_checkpoint = ModelCheckpoint('covid_test.hdf5', monitor='loss',verbose=1, save_best_only=True)\r\n",
        "    model.fit_generator(myGene,steps_per_epoch=300,epochs=50,callbacks=[model_checkpoint])\r\n",
        "    print('total time(min):', (time.time()-start_time)/60)\r\n",
        "def test():\r\n",
        "    model.load_weights('./covidtest.hdf5')\r\n",
        "    testGene = testmyGenerator(\"./datasets/test_image\")\r\n",
        "    results = model.predict_generator(testGene,3,verbose=1)\r\n",
        "    saveResult(\"./datasets/result\",results)\r\n",
        "\r\n",
        "#train()\r\n",
        "test()"
      ],
      "execution_count": null,
      "outputs": []
    },
    {
      "cell_type": "code",
      "metadata": {
        "id": "I7K9AXaycM-r"
      },
      "source": [
        "import cv2\r\n",
        "import os\r\n",
        "import numpy as np\r\n",
        "import keras\r\n",
        "import tensorflow as tf\r\n",
        "from tensorflow.python.client import device_lib\r\n",
        "from keras import backend\r\n",
        "\r\n",
        "def image_blending():\r\n",
        "    original_path = './datasets/test_image'\r\n",
        "    segmentation_path = './datasets/result'\r\n",
        "\r\n",
        "    img1 = cv2.imread(os.path.join(original_path,'input__0.jpg'))\r\n",
        "    img2 = cv2.imread(os.path.join(segmentation_path, '0_predict.png'))\r\n",
        "    img2[:, :, 1] = 0\r\n",
        "    img2[:, :, 2] = 0\r\n",
        "    a=0.5\r\n",
        "    b=0.5\r\n",
        "    dst = cv2.addWeighted(img1, a, img2, b, 0)\r\n",
        "    # cv2.imshow('dst',dst)\r\n",
        "    # cv2.waitKey(0)\r\n",
        "    # cv2.destroyAllWindows()\r\n",
        "    cv2.imwrite(os.path.join(segmentation_path, 'image_blending_image1.png'), dst)\r\n",
        "\r\n",
        "image_blending()"
      ],
      "execution_count": null,
      "outputs": []
    },
    {
      "cell_type": "code",
      "metadata": {
        "id": "5cZCzuDBMRVW"
      },
      "source": [
        "from IPython.display import Image\r\n",
        "Image('./datasets/result/image_blending_image1.png')"
      ],
      "execution_count": null,
      "outputs": []
    }
  ]
}