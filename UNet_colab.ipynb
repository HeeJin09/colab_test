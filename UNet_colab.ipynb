{
  "nbformat": 4,
  "nbformat_minor": 0,
  "metadata": {
    "colab": {
      "name": "UNet_colab.ipynb",
      "private_outputs": true,
      "provenance": [],
      "collapsed_sections": [],
      "mount_file_id": "1A5lbvxVQRMpU4LAAc9jFGxIxzOS3gzQv",
      "authorship_tag": "ABX9TyOAEHCFyodN813pqkd2FXGP",
      "include_colab_link": true
    },
    "kernelspec": {
      "name": "python3",
      "display_name": "Python 3"
    },
    "accelerator": "GPU"
  },
  "cells": [
    {
      "cell_type": "markdown",
      "metadata": {
        "id": "view-in-github",
        "colab_type": "text"
      },
      "source": [
        "<a href=\"https://colab.research.google.com/github/HeeJin09/colab_test/blob/colab/UNet_colab.ipynb\" target=\"_parent\"><img src=\"https://colab.research.google.com/assets/colab-badge.svg\" alt=\"Open In Colab\"/></a>"
      ]
    },
    {
      "cell_type": "code",
      "metadata": {
        "id": "D-hhWJPF9SuQ"
      },
      "source": [
        "!python3 './drive/MyDrive//test/datasets/make_resize.py'"
      ],
      "execution_count": null,
      "outputs": []
    },
    {
      "cell_type": "code",
      "metadata": {
        "id": "p5_N2k5zWpEd"
      },
      "source": [
        "!python3 './drive/MyDrive/datasets/test/make_resize_label.py'"
      ],
      "execution_count": null,
      "outputs": []
    },
    {
      "cell_type": "code",
      "metadata": {
        "id": "kxLK-vmlUUEa"
      },
      "source": [
        "!python3 './drive/MyDrive/datasets/test/model.py'"
      ],
      "execution_count": null,
      "outputs": []
    },
    {
      "cell_type": "code",
      "metadata": {
        "id": "IPZbGRi19DwS"
      },
      "source": [
        "!python3 './drive/MyDrive/datasets/test/data.py'"
      ],
      "execution_count": null,
      "outputs": []
    },
    {
      "cell_type": "code",
      "metadata": {
        "id": "HoQQqNTKW-ed"
      },
      "source": [
        "!python3 './drive/MyDrive/datasets/test/main.py'"
      ],
      "execution_count": null,
      "outputs": []
    },
    {
      "cell_type": "code",
      "metadata": {
        "id": "I7K9AXaycM-r"
      },
      "source": [
        "!python3 './drive/MyDrive/datasets/test/make_labels.py'"
      ],
      "execution_count": null,
      "outputs": []
    },
    {
      "cell_type": "code",
      "metadata": {
        "id": "H4Q35kkpzWQH"
      },
      "source": [
        "!python3 './drive/MyDrive/datasets/test/make_labels1.py'"
      ],
      "execution_count": null,
      "outputs": []
    },
    {
      "cell_type": "code",
      "metadata": {
        "id": "c9Pis82UzTbT"
      },
      "source": [
        "!python3 './drive/MyDrive/datasets/test/make_labels2.py'"
      ],
      "execution_count": null,
      "outputs": []
    },
    {
      "cell_type": "code",
      "metadata": {
        "id": "Bz7OA5ETzqe1"
      },
      "source": [
        "from IPython.display import Image\r\n",
        "Image('./drive/MyDrive/datasets/result/image_blending_image0.png')"
      ],
      "execution_count": null,
      "outputs": []
    }
  ]
}