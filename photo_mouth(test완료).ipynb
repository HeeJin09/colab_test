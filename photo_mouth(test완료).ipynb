{
  "nbformat": 4,
  "nbformat_minor": 0,
  "metadata": {
    "colab": {
      "name": "photo_mouth(test완료).ipynb ",
      "private_outputs": true,
      "provenance": [],
      "authorship_tag": "ABX9TyOYfA2uRDKJZRwY6PVnN1vZ",
      "include_colab_link": true
    },
    "kernelspec": {
      "name": "python3",
      "display_name": "Python 3"
    }
  },
  "cells": [
    {
      "cell_type": "markdown",
      "metadata": {
        "id": "view-in-github",
        "colab_type": "text"
      },
      "source": [
        "<a href=\"https://colab.research.google.com/github/HeeJin09/colab_test/blob/colab/photo_mouth(test%EC%99%84%EB%A3%8C).ipynb\" target=\"_parent\"><img src=\"https://colab.research.google.com/assets/colab-badge.svg\" alt=\"Open In Colab\"/></a>"
      ]
    },
    {
      "cell_type": "code",
      "metadata": {
        "id": "_ziAE5dAcbz5"
      },
      "source": [
        "from IPython.display import display, Javascript\r\n",
        "from google.colab.output import eval_js\r\n",
        "from base64 import b64decode\r\n",
        "\r\n",
        "def take_photo(filename='photo.jpg', quality=0.8):\r\n",
        "  js = Javascript('''\r\n",
        "    async function takePhoto(quality) {\r\n",
        "      const div = document.createElement('div');\r\n",
        "      const capture = document.createElement('button');\r\n",
        "      capture.textContent = 'Capture';\r\n",
        "      div.appendChild(capture);\r\n",
        "\r\n",
        "      const video = document.createElement('video');\r\n",
        "      video.style.display = 'block';\r\n",
        "      const stream = await navigator.mediaDevices.getUserMedia({video: true});\r\n",
        "\r\n",
        "      document.body.appendChild(div);\r\n",
        "      div.appendChild(video);\r\n",
        "      video.srcObject = stream;\r\n",
        "      await video.play();\r\n",
        "\r\n",
        "      // Resize the output to fit the video element.\r\n",
        "      google.colab.output.setIframeHeight(document.documentElement.scrollHeight, true);\r\n",
        "\r\n",
        "      // Wait for Capture to be clicked.\r\n",
        "      await new Promise((resolve) => capture.onclick = resolve);\r\n",
        "\r\n",
        "      const canvas = document.createElement('canvas');\r\n",
        "      canvas.width = video.videoWidth;\r\n",
        "      canvas.height = video.videoHeight;\r\n",
        "      canvas.getContext('2d').drawImage(video, 0, 0);\r\n",
        "      stream.getVideoTracks()[0].stop();\r\n",
        "      div.remove();\r\n",
        "      return canvas.toDataURL('image/jpeg', quality);\r\n",
        "    }\r\n",
        "    ''')\r\n",
        "  display(js)\r\n",
        "  data = eval_js('takePhoto({})'.format(quality))\r\n",
        "  binary = b64decode(data.split(',')[1])\r\n",
        "  with open(filename, 'wb') as f:\r\n",
        "    f.write(binary)\r\n",
        "  return filename"
      ],
      "execution_count": null,
      "outputs": []
    },
    {
      "cell_type": "code",
      "metadata": {
        "id": "L6iVNyuUcqES"
      },
      "source": [
        "from IPython.display import Image\r\n",
        "try:\r\n",
        "  filename = take_photo()\r\n",
        "  print('Saved to {}'.format(filename))\r\n",
        "  \r\n",
        "  # Show the image which was just taken.\r\n",
        "  display(Image(filename))\r\n",
        "except Exception as err:\r\n",
        "  # Errors will be thrown if the user does not have a webcam or if they do not\r\n",
        "  # grant the page permission to access it.\r\n",
        "  print(str(err))"
      ],
      "execution_count": null,
      "outputs": []
    },
    {
      "cell_type": "code",
      "metadata": {
        "id": "Uiv5xvILdJO0"
      },
      "source": [
        "seconds_in_a_day = 24 * 60 * 60\r\n",
        "seconds_in_a_day"
      ],
      "execution_count": null,
      "outputs": []
    },
    {
      "cell_type": "code",
      "metadata": {
        "id": "qJSRuGxAdNxg"
      },
      "source": [
        "seconds_in_a_week = 7 * seconds_in_a_day\r\n",
        "seconds_in_a_week"
      ],
      "execution_count": null,
      "outputs": []
    },
    {
      "cell_type": "code",
      "metadata": {
        "id": "ByGrV3IHdUv8"
      },
      "source": [
        "!apt-get -qq install -y libsm6 libxext6\r\n",
        "!pip install -q -U opencv-python"
      ],
      "execution_count": null,
      "outputs": []
    },
    {
      "cell_type": "code",
      "metadata": {
        "id": "LXxuNhzDdRqm"
      },
      "source": [
        "%matplotlib inline\r\n",
        "from matplotlib import pyplot as plt\r\n",
        "import cv2\r\n"
      ],
      "execution_count": null,
      "outputs": []
    },
    {
      "cell_type": "code",
      "metadata": {
        "id": "B_8501QQdgR8"
      },
      "source": [
        "from google.colab import files\r\n",
        "file=files.upload()\r\n"
      ],
      "execution_count": null,
      "outputs": []
    },
    {
      "cell_type": "code",
      "metadata": {
        "id": "haiEesIbf75U"
      },
      "source": [
        "from google.colab import files\r\n",
        "filename = '/content/photo.jpg'"
      ],
      "execution_count": null,
      "outputs": []
    },
    {
      "cell_type": "code",
      "metadata": {
        "id": "O5-dwiyTd2Uo"
      },
      "source": [
        "mouth_cascade = cv2.CascadeClassifier('haarcascade_mcs_mouth.xml')\r\n",
        "img = cv2.imread('photo.jpg')\r\n",
        "gray = cv2.cvtColor(img,cv2.COLOR_BGR2GRAY)\r\n",
        "mouth = mouth_cascade.detectMultiScale(gray,1.3,5)\r\n",
        "print(mouth)"
      ],
      "execution_count": null,
      "outputs": []
    },
    {
      "cell_type": "code",
      "metadata": {
        "id": "in34z75Nd62P"
      },
      "source": [
        "for (x,y,w,h) in mouth:\r\n",
        "    cv2.rectangle(img,(x,y),(x+w,y+h),(0,255,0),2)\r\n",
        "    roigray = gray[y:y+h,x:x+w]\r\n",
        "    roicolor = img[y:y+h, x:x+w]\r\n",
        "plt.grid(None)\r\n",
        "plt.xticks([])\r\n",
        "plt.yticks([])\r\n",
        "imgplot = plt.imshow(img)"
      ],
      "execution_count": null,
      "outputs": []
    }
  ]
}